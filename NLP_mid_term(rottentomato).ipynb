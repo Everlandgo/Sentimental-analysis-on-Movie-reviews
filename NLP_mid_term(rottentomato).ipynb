{
 "cells": [
  {
   "cell_type": "markdown",
   "id": "0707730c",
   "metadata": {},
   "source": [
    "<h1>NLP MID_TERM: SENTIMENTAL ANALYSIS </h1>"
   ]
  },
  {
   "cell_type": "markdown",
   "id": "11d5e33b",
   "metadata": {},
   "source": [
    "## Introduction"
   ]
  },
  {
   "cell_type": "markdown",
   "id": "3ca0dc93",
   "metadata": {},
   "source": [
    "Technology has undergone significant advancements over the centuries, enabling easy access to online purchasing and ordering. With technology becoming an integral part of daily life, individuals frequently share their stories and provide reviews to communicate their experiences. These reviews play a crucial role in guiding others and offering a glimpse of what they can expect or enabling providers to receive feedback for further enhancements.There are variety of reviews, such as product reviews, experiential reviews, video reviews, and movie reviews. For this project, I will focus on analyzing movie reviews.\n",
    "\n",
    "The problem area I have chosen for this coursework is sentiment analysis in the context of movie reviews  provided by critics. Sentiment analysis involves analyzing digital text to determine the emotional tone of the message, specifically whether it conveys a positive or negative sentiment[1]. The goal is to develop a text classifier that can accurately classify movie reviews based on their sentiment. To carry out this investigation, I will utilize Rotten Tomatoes dataset,Rotten Tomatoes is a prominent platform that aggregates reviews from both critics and viewers. Rotten Tomatoes offers a comprehensive perspective on the quality and reception of movies, making it an ideal source for critical analysis."
   ]
  },
  {
   "cell_type": "markdown",
   "id": "3e7384e1",
   "metadata": {},
   "source": [
    "## Domain-specific area\n",
    "\n",
    "For this coursework, I will be addressing the problem of sentiment analysis, specifically focusing on sentiment classification. Sentiment analysis is a powerful tool that involves analyzing digital text to determine the emotional tone of the message, whether it is positive or negative [1]. By conducting sentiment analysis, businesses gain valuable insights into customer feedback about their products or services, especially when the scale of the data is large. This analysis allows businesses to enhance user experiences, improve their products or services, and make informed decisions that align with customer perceptions and preferences.\n",
    "\n",
    "\n",
    "In this project, I will be developing a text classifier that would classify movie reviews as either positive or negative based on the sentiment expressed in the text. The text classification method I would use is logistic regression. Logistic regression is a algorithm that would predict the probability of a instance belonging to a certain class [2]. To build this classifier, I would be using a a movie reviews dataset which includes their corresponding sentiment already. This dataset will serve as the foundation for training and evaluating the performance of the classifier.\n",
    "\n",
    "Throughout the project, I have referenced prior works by different authors to guide me in various stages. For preprocessing stage, I relied on the insights provided by Anna Bianca Jones in \"Sentiment Analysis of Reviews: Text Pre-processing\" [3]. This work has helped me implement effective techniques such as lowercasing, tokenization and negation handling. Additionally, for the development of the classifier and performance measurement, I referred to Prashant Banerjee's tutorial on \"Logistic Regression Classifier Tutorial\" [3]. This tutorial has provided a comprehensive understanding of logistic regression and its application in text classification tasks, along with guidance on evaluating the classifier's performance using like confusion matrix and ROC cruve."
   ]
  },
  {
   "cell_type": "markdown",
   "id": "19bd66b4",
   "metadata": {},
   "source": [
    "## Objective \n",
    "\n",
    "The objective of this project is to perform sentiment analysis on movie reviews written by critics to provide insights into the sentiment expressed in movie reviews. The project aims to build a robust and accurate sentiment analysis text classifier that can effectively classify movie reviews as either positive or negative based on the emotional tone of the text. By analyzing the sentiments expressed in the reviews, this project will offer valuable insights to the film industry, enabling filmmakers and industry professionals to make informed decisions and enhance the movie-watching experience. To achieve this objective, the project will utilize the Rotten Tomatoes dataset, employ logistic regression as the text classification algorithm, and implement various text preprocessing techniques and performance evaluation measures."
   ]
  },
  {
   "cell_type": "markdown",
   "id": "f9fbb813",
   "metadata": {},
   "source": [
    "## Dataset\n",
    "\n",
    "The dataset being used is the \"rotten_tomatoes_movie_review\" dataset, which contains movie reviews written by critics on the official Rotten Tomatoes website. Rotten Tomatoes is a platform where users can explore movies, access relevant information, and read reviews from both regular users and professional critics .\n",
    "\n",
    "The dataset was obtained from Kaggle and can be found at the following link: \"https://www.kaggle.com/datasets/andrezaza/clapper-massive-rotten-tomatoes-movies-and-reviews?datasetId=3125944&sortBy=dateRun&tab=profile\"[13]. It was created by scraping data from the Rotten Tomatoes website as of April 12, 2023. Each record in the dataset represents a critic review published on Rotten Tomatoes and includes all available fields as presented on the website. The dataset file size is 410.69MB.\n",
    "\n",
    "The dataset was available on Kaggle under the CC0: Public Domain License. This license signifies that the provider of the dataset has handed over their rights to the work according to copyright law, making it freely available to the public domain worldwide. As a result, we can use, modify, distribute, and perform the work without the need for permission."
   ]
  },
  {
   "cell_type": "markdown",
   "id": "27a4e6a7",
   "metadata": {},
   "source": [
    "## Evalution methology\n",
    "\n",
    "In order to check the performance of the sentiment analysis classifier, the evalution metrics I would apply are metrics of accuracy, precision, recall and F-measure, ROC AUC. Each metrics provide a insight of the ability of the classifier to accurately classify sentiment in the given dataset.\n",
    "\n",
    "<ul>\n",
    "<li>Accuracy measures how often the classfier predicts correctly. The acccuracy can be calculated by ratio of correct predictions to the total number of inputs for testing [5].<br>\n",
    "    Accuracy = Number of correct Predictions / Total number of Inputs</li>\n",
    "<br>\n",
    "<li>Precision measures the true positives from all predicted positive instances whether they are false positive or true positive [6].<br>\n",
    "    Precision = True Positives / (True Positives + False Positives)</li>\n",
    "<br>\n",
    "<li>Recall measures the number of true positives over the total of true positives and false negatives [6].<br>\n",
    "    Recall = True Positives / (True Positives + False Negatives)</li>\n",
    "<br>\n",
    "<li>F-measure measures the balanced evaluation of precision and recall<br>\n",
    "    F1 Score = 2 * (Precision * Recall) / (Precision + Recall)</li>\n",
    "<br>\n",
    "<li>\n",
    "ROC AUC summarizes the overall performance of a classifier</li>\n",
    "</ul>"
   ]
  },
  {
   "cell_type": "markdown",
   "id": "c09c65c0",
   "metadata": {},
   "source": [
    "## Implementation of sentiment analysis on movie reviews "
   ]
  },
  {
   "cell_type": "code",
   "execution_count": 1,
   "id": "0f9a559d",
   "metadata": {},
   "outputs": [],
   "source": [
    "# Importing neccessary libraries\n",
    "import nltk \n",
    "import numpy as np \n",
    "import pandas as pd \n",
    "import matplotlib.pyplot as plt\n",
    "import seaborn as sns\n",
    "import re\n",
    "import contractions\n",
    "\n",
    "from nltk.stem import WordNetLemmatizer\n",
    "from nltk.corpus import stopwords\n",
    "from nltk.tokenize import word_tokenize\n",
    "from sklearn.model_selection import train_test_split\n",
    "from sklearn.feature_extraction.text import CountVectorizer\n",
    "from imblearn.under_sampling import RandomUnderSampler\n",
    "from sklearn.utils import shuffle\n",
    "from sklearn.feature_extraction.text import TfidfVectorizer\n",
    "from sklearn.model_selection import train_test_split\n",
    "from sklearn.linear_model import LogisticRegression\n",
    "from sklearn.metrics import accuracy_score, precision_score, recall_score, f1_score\n",
    "from spellchecker import SpellChecker\n",
    "from sklearn import metrics\n",
    "from sklearn.metrics import roc_curve, roc_auc_score"
   ]
  },
  {
   "cell_type": "code",
   "execution_count": 2,
   "id": "476e3a38",
   "metadata": {},
   "outputs": [],
   "source": [
    "# Importing the the rotten_tomatoes_movie_reviews csv file to dataframe \n",
    "tomatoes_movie_review = pd.read_csv('rotten_tomatoes_movie_reviews.csv')"
   ]
  },
  {
   "cell_type": "code",
   "execution_count": 3,
   "id": "96de1cfc",
   "metadata": {},
   "outputs": [
    {
     "data": {
      "text/plain": [
       "['id',\n",
       " 'reviewId',\n",
       " 'creationDate',\n",
       " 'criticName',\n",
       " 'isTopCritic',\n",
       " 'originalScore',\n",
       " 'reviewState',\n",
       " 'publicatioName',\n",
       " 'reviewText',\n",
       " 'scoreSentiment',\n",
       " 'reviewUrl']"
      ]
     },
     "execution_count": 3,
     "metadata": {},
     "output_type": "execute_result"
    }
   ],
   "source": [
    "# showing the headers of dataframe\n",
    "list(tomatoes_movie_review.columns)"
   ]
  },
  {
   "cell_type": "code",
   "execution_count": 4,
   "id": "133020e7",
   "metadata": {},
   "outputs": [
    {
     "name": "stdout",
     "output_type": "stream",
     "text": [
      "criticReview    object\n",
      "sentiment       object\n",
      "dtype: object\n"
     ]
    }
   ],
   "source": [
    "# Dropping unneccessary columns\n",
    "tomatoes_movie_review=tomatoes_movie_review.drop(columns=['id',\n",
    " 'reviewId',\n",
    " 'creationDate',\n",
    " 'criticName',\n",
    " 'isTopCritic',\n",
    " 'originalScore',\n",
    "  'reviewState',\n",
    " 'publicatioName',\n",
    "'reviewUrl'])\n",
    "tomatoes_movie_review=tomatoes_movie_review.rename(columns={\"reviewText\":\"criticReview\",\"scoreSentiment\":\"sentiment\"})\n",
    "print(tomatoes_movie_review.dtypes)"
   ]
  },
  {
   "cell_type": "code",
   "execution_count": 5,
   "id": "b51ebc59",
   "metadata": {},
   "outputs": [
    {
     "name": "stdout",
     "output_type": "stream",
     "text": [
      "                                              criticReview sentiment\n",
      "0        Timed to be just long enough for most youngste...  POSITIVE\n",
      "1        It doesn't matter if a movie costs 300 million...  NEGATIVE\n",
      "2        The choreography is so precise and lifelike at...  POSITIVE\n",
      "3        The film's out-of-touch attempts at humor may ...  NEGATIVE\n",
      "4        Its clumsy determination is endearing and some...  POSITIVE\n",
      "...                                                    ...       ...\n",
      "1444958  Solid but not totally sold&#44; Thor&#58; Ragn...  POSITIVE\n",
      "1444959  Thor&#58; Love and Thunder is the most enterta...  POSITIVE\n",
      "1444960  &quot;Thor&#58; Love and Thunder&quot; is a st...  POSITIVE\n",
      "1444961  Across Taika Waititi&#8217;s film&#44; a war a...  NEGATIVE\n",
      "1444962  It&#8217;s the jokes that make it&#44; with th...  POSITIVE\n",
      "\n",
      "[1444963 rows x 2 columns]\n"
     ]
    }
   ],
   "source": [
    "print(tomatoes_movie_review)"
   ]
  },
  {
   "cell_type": "markdown",
   "id": "f5dd698c",
   "metadata": {},
   "source": [
    "## Pre-processing the data"
   ]
  },
  {
   "cell_type": "markdown",
   "id": "9ca6e6b8",
   "metadata": {},
   "source": [
    "According to Dickinson (2023) [7], the pre-processing process in sentiment analysis involves removing the 'noise' from the dataset by eliminating unnecessary elements and reducing it to its essential components. In the case of the movie review dataset, several pre-processing techniques will be applied:\n",
    "\n",
    "- Removal of null and duplicate values\n",
    "- Conversion of text to lowercase\n",
    "- Handling of contractions\n",
    "- Removal of special characters\n",
    "- Tokenization\n",
    "- Removal of stop words\n",
    "- Lemmatization\n",
    "- Spelling check\n",
    "\n",
    "Through implementation of these techniques could effectively eliminate unnecessary elements, standardize the text format. It would enhance the quality and consistency of the dataset, enabling more accurate and reliable sentiment analysis."
   ]
  },
  {
   "cell_type": "markdown",
   "id": "5baac575",
   "metadata": {},
   "source": [
    "### Removal of null and duplicates from the dataset"
   ]
  },
  {
   "cell_type": "markdown",
   "id": "7e4b0b99",
   "metadata": {},
   "source": [
    "The dataset may contain duplicate or null values that do not contribute to the analysis. Therefore, these entries are removed prior to further processing. Initially, there were 1444963 entries in the dataframe"
   ]
  },
  {
   "cell_type": "code",
   "execution_count": 6,
   "id": "c8a8f79e",
   "metadata": {
    "scrolled": true
   },
   "outputs": [
    {
     "name": "stdout",
     "output_type": "stream",
     "text": [
      "Original size:  (1444963, 2)\n",
      "\n",
      " Number of entries that are null: \n",
      " criticReview    69225\n",
      "sentiment           0\n",
      "dtype: int64\n",
      "\n",
      " After removal of null and duplicates: (1359909, 2)\n"
     ]
    }
   ],
   "source": [
    "print(\"Original size: \", tomatoes_movie_review.shape)\n",
    "print(\"\\n Number of entries that are null: \\n\",tomatoes_movie_review.isnull().sum())\n",
    "\n",
    "tomatoes_movie_review=tomatoes_movie_review.dropna()\n",
    "tomatoes_movie_review = tomatoes_movie_review.drop_duplicates()\n",
    "tomatoes_movie_review = tomatoes_movie_review.reset_index(drop=True)\n",
    "\n",
    "print(\"\\n After removal of null and duplicates:\", tomatoes_movie_review.shape)"
   ]
  },
  {
   "cell_type": "markdown",
   "id": "3b2aa5c8",
   "metadata": {},
   "source": [
    "### Conversion of text to lowercase"
   ]
  },
  {
   "cell_type": "markdown",
   "id": "e03330b3",
   "metadata": {},
   "source": [
    "By changing the text to lowercase improves the accuracy of text matching and word recognition"
   ]
  },
  {
   "cell_type": "code",
   "execution_count": 7,
   "id": "958be470",
   "metadata": {},
   "outputs": [
    {
     "data": {
      "text/html": [
       "<div>\n",
       "<style scoped>\n",
       "    .dataframe tbody tr th:only-of-type {\n",
       "        vertical-align: middle;\n",
       "    }\n",
       "\n",
       "    .dataframe tbody tr th {\n",
       "        vertical-align: top;\n",
       "    }\n",
       "\n",
       "    .dataframe thead th {\n",
       "        text-align: right;\n",
       "    }\n",
       "</style>\n",
       "<table border=\"1\" class=\"dataframe\">\n",
       "  <thead>\n",
       "    <tr style=\"text-align: right;\">\n",
       "      <th></th>\n",
       "      <th>criticReview</th>\n",
       "      <th>sentiment</th>\n",
       "    </tr>\n",
       "  </thead>\n",
       "  <tbody>\n",
       "    <tr>\n",
       "      <th>0</th>\n",
       "      <td>timed to be just long enough for most youngste...</td>\n",
       "      <td>positive</td>\n",
       "    </tr>\n",
       "    <tr>\n",
       "      <th>1</th>\n",
       "      <td>it doesn't matter if a movie costs 300 million...</td>\n",
       "      <td>negative</td>\n",
       "    </tr>\n",
       "    <tr>\n",
       "      <th>2</th>\n",
       "      <td>the choreography is so precise and lifelike at...</td>\n",
       "      <td>positive</td>\n",
       "    </tr>\n",
       "    <tr>\n",
       "      <th>3</th>\n",
       "      <td>the film's out-of-touch attempts at humor may ...</td>\n",
       "      <td>negative</td>\n",
       "    </tr>\n",
       "    <tr>\n",
       "      <th>4</th>\n",
       "      <td>its clumsy determination is endearing and some...</td>\n",
       "      <td>positive</td>\n",
       "    </tr>\n",
       "    <tr>\n",
       "      <th>5</th>\n",
       "      <td>with every new minute, there's another head-sc...</td>\n",
       "      <td>positive</td>\n",
       "    </tr>\n",
       "    <tr>\n",
       "      <th>6</th>\n",
       "      <td>emotionless reaction shots, zero characterizat...</td>\n",
       "      <td>positive</td>\n",
       "    </tr>\n",
       "    <tr>\n",
       "      <th>7</th>\n",
       "      <td>conceivably, it could serve as a primer for st...</td>\n",
       "      <td>negative</td>\n",
       "    </tr>\n",
       "    <tr>\n",
       "      <th>8</th>\n",
       "      <td>if you're not a fan of garbage cinema, even fo...</td>\n",
       "      <td>negative</td>\n",
       "    </tr>\n",
       "    <tr>\n",
       "      <th>9</th>\n",
       "      <td>\"dangerous men,\" the picture's production note...</td>\n",
       "      <td>negative</td>\n",
       "    </tr>\n",
       "  </tbody>\n",
       "</table>\n",
       "</div>"
      ],
      "text/plain": [
       "                                        criticReview sentiment\n",
       "0  timed to be just long enough for most youngste...  positive\n",
       "1  it doesn't matter if a movie costs 300 million...  negative\n",
       "2  the choreography is so precise and lifelike at...  positive\n",
       "3  the film's out-of-touch attempts at humor may ...  negative\n",
       "4  its clumsy determination is endearing and some...  positive\n",
       "5  with every new minute, there's another head-sc...  positive\n",
       "6  emotionless reaction shots, zero characterizat...  positive\n",
       "7  conceivably, it could serve as a primer for st...  negative\n",
       "8  if you're not a fan of garbage cinema, even fo...  negative\n",
       "9  \"dangerous men,\" the picture's production note...  negative"
      ]
     },
     "execution_count": 7,
     "metadata": {},
     "output_type": "execute_result"
    }
   ],
   "source": [
    "tomatoes_movie_review['criticReview']=tomatoes_movie_review['criticReview'].astype(str)\n",
    "tomatoes_movie_review[['criticReview', 'sentiment']]= tomatoes_movie_review[['criticReview', 'sentiment']].apply\\\n",
    "(lambda x: x.str.lower())\n",
    "\n",
    "tomatoes_movie_review.head(10)"
   ]
  },
  {
   "cell_type": "markdown",
   "id": "6cd600b3",
   "metadata": {},
   "source": [
    "### Handling of contractions "
   ]
  },
  {
   "cell_type": "markdown",
   "id": "b8f6f344",
   "metadata": {},
   "source": [
    "Before removing special characters, it is crucial to handle contractions. Usually contractions are shortened words formed by combining two or more words with an apostrophe [8]. It is essential to process these words and expand them to their full form. Failing to address contractions can lead to different interpretations by computers, even though the words have the same meaning. The contractions can be addressed by using the `contractions.fix()` function."
   ]
  },
  {
   "cell_type": "code",
   "execution_count": 8,
   "id": "ad7faeb4",
   "metadata": {},
   "outputs": [
    {
     "data": {
      "text/html": [
       "<div>\n",
       "<style scoped>\n",
       "    .dataframe tbody tr th:only-of-type {\n",
       "        vertical-align: middle;\n",
       "    }\n",
       "\n",
       "    .dataframe tbody tr th {\n",
       "        vertical-align: top;\n",
       "    }\n",
       "\n",
       "    .dataframe thead th {\n",
       "        text-align: right;\n",
       "    }\n",
       "</style>\n",
       "<table border=\"1\" class=\"dataframe\">\n",
       "  <thead>\n",
       "    <tr style=\"text-align: right;\">\n",
       "      <th></th>\n",
       "      <th>criticReview</th>\n",
       "      <th>sentiment</th>\n",
       "    </tr>\n",
       "  </thead>\n",
       "  <tbody>\n",
       "    <tr>\n",
       "      <th>0</th>\n",
       "      <td>timed to be just long enough for most youngste...</td>\n",
       "      <td>positive</td>\n",
       "    </tr>\n",
       "    <tr>\n",
       "      <th>1</th>\n",
       "      <td>it does not matter if a movie costs 300 millio...</td>\n",
       "      <td>negative</td>\n",
       "    </tr>\n",
       "    <tr>\n",
       "      <th>2</th>\n",
       "      <td>the choreography is so precise and lifelike at...</td>\n",
       "      <td>positive</td>\n",
       "    </tr>\n",
       "    <tr>\n",
       "      <th>3</th>\n",
       "      <td>the film's out-of-touch attempts at humor may ...</td>\n",
       "      <td>negative</td>\n",
       "    </tr>\n",
       "    <tr>\n",
       "      <th>4</th>\n",
       "      <td>its clumsy determination is endearing and some...</td>\n",
       "      <td>positive</td>\n",
       "    </tr>\n",
       "    <tr>\n",
       "      <th>5</th>\n",
       "      <td>with every new minute, there is another head-s...</td>\n",
       "      <td>positive</td>\n",
       "    </tr>\n",
       "    <tr>\n",
       "      <th>6</th>\n",
       "      <td>emotionless reaction shots, zero characterizat...</td>\n",
       "      <td>positive</td>\n",
       "    </tr>\n",
       "    <tr>\n",
       "      <th>7</th>\n",
       "      <td>conceivably, it could serve as a primer for st...</td>\n",
       "      <td>negative</td>\n",
       "    </tr>\n",
       "    <tr>\n",
       "      <th>8</th>\n",
       "      <td>if you are not a fan of garbage cinema, even f...</td>\n",
       "      <td>negative</td>\n",
       "    </tr>\n",
       "    <tr>\n",
       "      <th>9</th>\n",
       "      <td>\"dangerous men,\" the picture's production note...</td>\n",
       "      <td>negative</td>\n",
       "    </tr>\n",
       "  </tbody>\n",
       "</table>\n",
       "</div>"
      ],
      "text/plain": [
       "                                        criticReview sentiment\n",
       "0  timed to be just long enough for most youngste...  positive\n",
       "1  it does not matter if a movie costs 300 millio...  negative\n",
       "2  the choreography is so precise and lifelike at...  positive\n",
       "3  the film's out-of-touch attempts at humor may ...  negative\n",
       "4  its clumsy determination is endearing and some...  positive\n",
       "5  with every new minute, there is another head-s...  positive\n",
       "6  emotionless reaction shots, zero characterizat...  positive\n",
       "7  conceivably, it could serve as a primer for st...  negative\n",
       "8  if you are not a fan of garbage cinema, even f...  negative\n",
       "9  \"dangerous men,\" the picture's production note...  negative"
      ]
     },
     "execution_count": 8,
     "metadata": {},
     "output_type": "execute_result"
    }
   ],
   "source": [
    "def expansion(review):\n",
    "    return contractions.fix(review)\n",
    "\n",
    "tomatoes_movie_review['criticReview'] = tomatoes_movie_review['criticReview'].apply(expansion)\n",
    "tomatoes_movie_review.head(10)"
   ]
  },
  {
   "cell_type": "markdown",
   "id": "b4865a5c",
   "metadata": {},
   "source": [
    "### Removal of special characters and numbers"
   ]
  },
  {
   "cell_type": "markdown",
   "id": "3212eade",
   "metadata": {},
   "source": [
    "The special characters and numbers are addressed here.In sentiment analysis, special characters and numbers are often removed from the text. This is because the focus of the analysis is on understanding the sentiment expressed by the words. And these special characters and numbers does not contribute to the sentiment or emotional tone. So, by removing them, we ensure that the analysis is solely based on the words themselves, leading to more accurate results. Moreover, the presence of symbols and numbers in the text can potentially confuse the sentiment analysis models and lead to incorrect interpretations. Therefore, it is essential to address and remove these special characters.\n"
   ]
  },
  {
   "cell_type": "code",
   "execution_count": 9,
   "id": "40583972",
   "metadata": {},
   "outputs": [],
   "source": [
    "# replace '-' so that the word is combined\n",
    "tomatoes_movie_review['criticReview']= tomatoes_movie_review['criticReview'].str.replace(r'-','', regex=True)\n",
    "\n",
    "#remove numbers \n",
    "tomatoes_movie_review['criticReview'] = tomatoes_movie_review['criticReview'].str.replace('\\d+', '', regex=True)\n",
    "\n",
    "#remove the words that are single letter\n",
    "tomatoes_movie_review['criticReview'] =tomatoes_movie_review['criticReview'].str.replace\\\n",
    "(r'\\s+[a-zA-Z]\\s+',' ', regex=True)\n",
    "\n",
    "# removes \\n \n",
    "tomatoes_movie_review['criticReview']= tomatoes_movie_review['criticReview'].str.replace(r'\\n','', regex=True) \n",
    "\n",
    "# remove special characters in the data \n",
    "tomatoes_movie_review['criticReview'] =tomatoes_movie_review['criticReview'].str.replace\\\n",
    "(r'[^a-zA-Z0-9\\s]', '', regex=True)\n",
    "\n",
    "# removes specific non-printable characters \n",
    "tomatoes_movie_review['criticReview'] = tomatoes_movie_review['criticReview'].str.replace\\\n",
    "('[\\xa0\\t\\u2028\\u2009]', '', regex=True)"
   ]
  },
  {
   "cell_type": "code",
   "execution_count": 10,
   "id": "7f0bdd03",
   "metadata": {},
   "outputs": [
    {
     "data": {
      "text/html": [
       "<div>\n",
       "<style scoped>\n",
       "    .dataframe tbody tr th:only-of-type {\n",
       "        vertical-align: middle;\n",
       "    }\n",
       "\n",
       "    .dataframe tbody tr th {\n",
       "        vertical-align: top;\n",
       "    }\n",
       "\n",
       "    .dataframe thead th {\n",
       "        text-align: right;\n",
       "    }\n",
       "</style>\n",
       "<table border=\"1\" class=\"dataframe\">\n",
       "  <thead>\n",
       "    <tr style=\"text-align: right;\">\n",
       "      <th></th>\n",
       "      <th>criticReview</th>\n",
       "      <th>sentiment</th>\n",
       "    </tr>\n",
       "  </thead>\n",
       "  <tbody>\n",
       "    <tr>\n",
       "      <th>0</th>\n",
       "      <td>timed to be just long enough for most youngste...</td>\n",
       "      <td>positive</td>\n",
       "    </tr>\n",
       "    <tr>\n",
       "      <th>1</th>\n",
       "      <td>it does not matter if movie costs  million or ...</td>\n",
       "      <td>negative</td>\n",
       "    </tr>\n",
       "    <tr>\n",
       "      <th>2</th>\n",
       "      <td>the choreography is so precise and lifelike at...</td>\n",
       "      <td>positive</td>\n",
       "    </tr>\n",
       "    <tr>\n",
       "      <th>3</th>\n",
       "      <td>the films outoftouch attempts at humor may fin...</td>\n",
       "      <td>negative</td>\n",
       "    </tr>\n",
       "    <tr>\n",
       "      <th>4</th>\n",
       "      <td>its clumsy determination is endearing and some...</td>\n",
       "      <td>positive</td>\n",
       "    </tr>\n",
       "    <tr>\n",
       "      <th>5</th>\n",
       "      <td>with every new minute there is another headscr...</td>\n",
       "      <td>positive</td>\n",
       "    </tr>\n",
       "    <tr>\n",
       "      <th>6</th>\n",
       "      <td>emotionless reaction shots zero characterizati...</td>\n",
       "      <td>positive</td>\n",
       "    </tr>\n",
       "    <tr>\n",
       "      <th>7</th>\n",
       "      <td>conceivably it could serve as primer for stude...</td>\n",
       "      <td>negative</td>\n",
       "    </tr>\n",
       "    <tr>\n",
       "      <th>8</th>\n",
       "      <td>if you are not fan of garbage cinema even for ...</td>\n",
       "      <td>negative</td>\n",
       "    </tr>\n",
       "    <tr>\n",
       "      <th>9</th>\n",
       "      <td>dangerous men the pictures production notes in...</td>\n",
       "      <td>negative</td>\n",
       "    </tr>\n",
       "  </tbody>\n",
       "</table>\n",
       "</div>"
      ],
      "text/plain": [
       "                                        criticReview sentiment\n",
       "0  timed to be just long enough for most youngste...  positive\n",
       "1  it does not matter if movie costs  million or ...  negative\n",
       "2  the choreography is so precise and lifelike at...  positive\n",
       "3  the films outoftouch attempts at humor may fin...  negative\n",
       "4  its clumsy determination is endearing and some...  positive\n",
       "5  with every new minute there is another headscr...  positive\n",
       "6  emotionless reaction shots zero characterizati...  positive\n",
       "7  conceivably it could serve as primer for stude...  negative\n",
       "8  if you are not fan of garbage cinema even for ...  negative\n",
       "9  dangerous men the pictures production notes in...  negative"
      ]
     },
     "execution_count": 10,
     "metadata": {},
     "output_type": "execute_result"
    }
   ],
   "source": [
    "tomatoes_movie_review.head(10)"
   ]
  },
  {
   "cell_type": "markdown",
   "id": "42f01ffa",
   "metadata": {},
   "source": [
    "### Tokenization \n",
    "\n",
    "Tokenization is the process of dividing text into individual tokens, which allows for easier analysis and interpretation of the text. In the case of movie reviews, tokenization is performed to facilitate subsequent steps such as stop word removal, lemmatization, and spelling check. By breaking down the text into tokens, we can effectively process and analyze the words in the reviews, enabling more accurate and meaningful analysis of the sentiment expressed in the text."
   ]
  },
  {
   "cell_type": "code",
   "execution_count": 11,
   "id": "62a05a4e",
   "metadata": {},
   "outputs": [],
   "source": [
    "# Create a function to tokenize the text\n",
    "def tokenize(col):\n",
    "    tokens = nltk.word_tokenize(col)\n",
    "    return [w for w in tokens if w.isalpha()] \n",
    "\n",
    "# Apply tokenization on the 'criticReview' column\n",
    "tomatoes_movie_review['criticReview'] = tomatoes_movie_review['criticReview'].apply(tokenize)"
   ]
  },
  {
   "cell_type": "code",
   "execution_count": 12,
   "id": "a369a24b",
   "metadata": {},
   "outputs": [
    {
     "data": {
      "text/html": [
       "<div>\n",
       "<style scoped>\n",
       "    .dataframe tbody tr th:only-of-type {\n",
       "        vertical-align: middle;\n",
       "    }\n",
       "\n",
       "    .dataframe tbody tr th {\n",
       "        vertical-align: top;\n",
       "    }\n",
       "\n",
       "    .dataframe thead th {\n",
       "        text-align: right;\n",
       "    }\n",
       "</style>\n",
       "<table border=\"1\" class=\"dataframe\">\n",
       "  <thead>\n",
       "    <tr style=\"text-align: right;\">\n",
       "      <th></th>\n",
       "      <th>criticReview</th>\n",
       "      <th>sentiment</th>\n",
       "    </tr>\n",
       "  </thead>\n",
       "  <tbody>\n",
       "    <tr>\n",
       "      <th>0</th>\n",
       "      <td>[timed, to, be, just, long, enough, for, most,...</td>\n",
       "      <td>positive</td>\n",
       "    </tr>\n",
       "    <tr>\n",
       "      <th>1</th>\n",
       "      <td>[it, does, not, matter, if, movie, costs, mill...</td>\n",
       "      <td>negative</td>\n",
       "    </tr>\n",
       "    <tr>\n",
       "      <th>2</th>\n",
       "      <td>[the, choreography, is, so, precise, and, life...</td>\n",
       "      <td>positive</td>\n",
       "    </tr>\n",
       "    <tr>\n",
       "      <th>3</th>\n",
       "      <td>[the, films, outoftouch, attempts, at, humor, ...</td>\n",
       "      <td>negative</td>\n",
       "    </tr>\n",
       "    <tr>\n",
       "      <th>4</th>\n",
       "      <td>[its, clumsy, determination, is, endearing, an...</td>\n",
       "      <td>positive</td>\n",
       "    </tr>\n",
       "  </tbody>\n",
       "</table>\n",
       "</div>"
      ],
      "text/plain": [
       "                                        criticReview sentiment\n",
       "0  [timed, to, be, just, long, enough, for, most,...  positive\n",
       "1  [it, does, not, matter, if, movie, costs, mill...  negative\n",
       "2  [the, choreography, is, so, precise, and, life...  positive\n",
       "3  [the, films, outoftouch, attempts, at, humor, ...  negative\n",
       "4  [its, clumsy, determination, is, endearing, an...  positive"
      ]
     },
     "execution_count": 12,
     "metadata": {},
     "output_type": "execute_result"
    }
   ],
   "source": [
    "tomatoes_movie_review.head(5)"
   ]
  },
  {
   "cell_type": "markdown",
   "id": "a36ba641",
   "metadata": {},
   "source": [
    "### Stop words removal \n",
    "\n",
    "Stop words are removed before performing lemmatization, since the dataset is large, removing stop words helps speed up the lemmatization process.And the stop words are eliminating commonly occurring stop words, which do not contribute much to the overall sentiment analysis, the focus can be placed on more meaningful words that carry the sentiment and context of the text."
   ]
  },
  {
   "cell_type": "code",
   "execution_count": 13,
   "id": "1799e27f",
   "metadata": {},
   "outputs": [],
   "source": [
    "stop_words = set(stopwords.words('english'))\n",
    "filtered_reviews = []\n",
    "\n",
    "#looping to search for stop words and removing them \n",
    "for review in tomatoes_movie_review['criticReview']: \n",
    "    not_stopword_tokens = [w for w in review if w not in stop_words]  \n",
    "    filtered_reviews.append(not_stopword_tokens)\n",
    "\n",
    "tomatoes_movie_review['criticReview'] = filtered_reviews"
   ]
  },
  {
   "cell_type": "code",
   "execution_count": 14,
   "id": "ed362743",
   "metadata": {},
   "outputs": [
    {
     "data": {
      "text/html": [
       "<div>\n",
       "<style scoped>\n",
       "    .dataframe tbody tr th:only-of-type {\n",
       "        vertical-align: middle;\n",
       "    }\n",
       "\n",
       "    .dataframe tbody tr th {\n",
       "        vertical-align: top;\n",
       "    }\n",
       "\n",
       "    .dataframe thead th {\n",
       "        text-align: right;\n",
       "    }\n",
       "</style>\n",
       "<table border=\"1\" class=\"dataframe\">\n",
       "  <thead>\n",
       "    <tr style=\"text-align: right;\">\n",
       "      <th></th>\n",
       "      <th>criticReview</th>\n",
       "      <th>sentiment</th>\n",
       "    </tr>\n",
       "  </thead>\n",
       "  <tbody>\n",
       "    <tr>\n",
       "      <th>0</th>\n",
       "      <td>[timed, long, enough, youngsters, brief, atten...</td>\n",
       "      <td>positive</td>\n",
       "    </tr>\n",
       "    <tr>\n",
       "      <th>1</th>\n",
       "      <td>[matter, movie, costs, million, dollars, good,...</td>\n",
       "      <td>negative</td>\n",
       "    </tr>\n",
       "    <tr>\n",
       "      <th>2</th>\n",
       "      <td>[choreography, precise, lifelike, points, one,...</td>\n",
       "      <td>positive</td>\n",
       "    </tr>\n",
       "    <tr>\n",
       "      <th>3</th>\n",
       "      <td>[films, outoftouch, attempts, humor, may, find...</td>\n",
       "      <td>negative</td>\n",
       "    </tr>\n",
       "    <tr>\n",
       "      <th>4</th>\n",
       "      <td>[clumsy, determination, endearing, sometimes, ...</td>\n",
       "      <td>positive</td>\n",
       "    </tr>\n",
       "  </tbody>\n",
       "</table>\n",
       "</div>"
      ],
      "text/plain": [
       "                                        criticReview sentiment\n",
       "0  [timed, long, enough, youngsters, brief, atten...  positive\n",
       "1  [matter, movie, costs, million, dollars, good,...  negative\n",
       "2  [choreography, precise, lifelike, points, one,...  positive\n",
       "3  [films, outoftouch, attempts, humor, may, find...  negative\n",
       "4  [clumsy, determination, endearing, sometimes, ...  positive"
      ]
     },
     "execution_count": 14,
     "metadata": {},
     "output_type": "execute_result"
    }
   ],
   "source": [
    "tomatoes_movie_review.head(5)"
   ]
  },
  {
   "cell_type": "markdown",
   "id": "67bbcab6",
   "metadata": {},
   "source": [
    "### Lemmatization \n",
    "\n",
    "Lemmatization is beneficial when the analysis places importance on the meaning of words [9]. In our case, where the meaning of words is crucial, lemmatization playes a valuable role. Lemmatization is the process of reducing the word to its root form,disregarding any inflections or variations [9]. By performing lemmatization, we can enhance the accuracy of the sentimental analysis, as it ensures that words with similar meanings are treated as a single entity."
   ]
  },
  {
   "cell_type": "code",
   "execution_count": 15,
   "id": "d98e9d52",
   "metadata": {},
   "outputs": [],
   "source": [
    "lemmatizer = WordNetLemmatizer()\n",
    "\n",
    "tomatoes_movie_review['criticReview'] = tomatoes_movie_review['criticReview'].apply\\\n",
    "(lambda review: [lemmatizer.lemmatize(token) for token in review])"
   ]
  },
  {
   "cell_type": "code",
   "execution_count": 16,
   "id": "246de1bd",
   "metadata": {},
   "outputs": [
    {
     "data": {
      "text/html": [
       "<div>\n",
       "<style scoped>\n",
       "    .dataframe tbody tr th:only-of-type {\n",
       "        vertical-align: middle;\n",
       "    }\n",
       "\n",
       "    .dataframe tbody tr th {\n",
       "        vertical-align: top;\n",
       "    }\n",
       "\n",
       "    .dataframe thead th {\n",
       "        text-align: right;\n",
       "    }\n",
       "</style>\n",
       "<table border=\"1\" class=\"dataframe\">\n",
       "  <thead>\n",
       "    <tr style=\"text-align: right;\">\n",
       "      <th></th>\n",
       "      <th>criticReview</th>\n",
       "      <th>sentiment</th>\n",
       "    </tr>\n",
       "  </thead>\n",
       "  <tbody>\n",
       "    <tr>\n",
       "      <th>0</th>\n",
       "      <td>[timed, long, enough, youngster, brief, attent...</td>\n",
       "      <td>positive</td>\n",
       "    </tr>\n",
       "    <tr>\n",
       "      <th>1</th>\n",
       "      <td>[matter, movie, cost, million, dollar, good, g...</td>\n",
       "      <td>negative</td>\n",
       "    </tr>\n",
       "    <tr>\n",
       "      <th>2</th>\n",
       "      <td>[choreography, precise, lifelike, point, one, ...</td>\n",
       "      <td>positive</td>\n",
       "    </tr>\n",
       "    <tr>\n",
       "      <th>3</th>\n",
       "      <td>[film, outoftouch, attempt, humor, may, find, ...</td>\n",
       "      <td>negative</td>\n",
       "    </tr>\n",
       "    <tr>\n",
       "      <th>4</th>\n",
       "      <td>[clumsy, determination, endearing, sometimes, ...</td>\n",
       "      <td>positive</td>\n",
       "    </tr>\n",
       "  </tbody>\n",
       "</table>\n",
       "</div>"
      ],
      "text/plain": [
       "                                        criticReview sentiment\n",
       "0  [timed, long, enough, youngster, brief, attent...  positive\n",
       "1  [matter, movie, cost, million, dollar, good, g...  negative\n",
       "2  [choreography, precise, lifelike, point, one, ...  positive\n",
       "3  [film, outoftouch, attempt, humor, may, find, ...  negative\n",
       "4  [clumsy, determination, endearing, sometimes, ...  positive"
      ]
     },
     "execution_count": 16,
     "metadata": {},
     "output_type": "execute_result"
    }
   ],
   "source": [
    "tomatoes_movie_review.head(5)"
   ]
  },
  {
   "cell_type": "markdown",
   "id": "e3126f5b",
   "metadata": {},
   "source": [
    "### Spell check "
   ]
  },
  {
   "cell_type": "markdown",
   "id": "5faf8690",
   "metadata": {},
   "source": [
    "The last step in the pre-processing process is spell check, which is crucial for any type of review, including movie reviews. Reviews often contain spelling errors, slang, or unidentifiable words. Conducting spell check helps identify and correct these errors, leading to more accurate sentiment analysis. It improves interpretation and prevents misrepresentation of words, ensuring the analysis captures the intended meaning. For this spell check I will be using pyspellchecker library."
   ]
  },
  {
   "cell_type": "code",
   "execution_count": 17,
   "id": "9f82ee9e",
   "metadata": {},
   "outputs": [],
   "source": [
    "spellcheck = SpellChecker()\n",
    "checked_reviews = []\n",
    "\n",
    "for review in tomatoes_movie_review['criticReview']: \n",
    "    checked_tokens = [w for w in review if spellcheck.known([w])]  \n",
    "    checked_reviews.append(checked_tokens)\n",
    "        \n",
    "tomatoes_movie_review['criticReview'] = checked_reviews"
   ]
  },
  {
   "cell_type": "code",
   "execution_count": 18,
   "id": "2257dc5a",
   "metadata": {},
   "outputs": [
    {
     "data": {
      "text/html": [
       "<div>\n",
       "<style scoped>\n",
       "    .dataframe tbody tr th:only-of-type {\n",
       "        vertical-align: middle;\n",
       "    }\n",
       "\n",
       "    .dataframe tbody tr th {\n",
       "        vertical-align: top;\n",
       "    }\n",
       "\n",
       "    .dataframe thead th {\n",
       "        text-align: right;\n",
       "    }\n",
       "</style>\n",
       "<table border=\"1\" class=\"dataframe\">\n",
       "  <thead>\n",
       "    <tr style=\"text-align: right;\">\n",
       "      <th></th>\n",
       "      <th>criticReview</th>\n",
       "      <th>sentiment</th>\n",
       "    </tr>\n",
       "  </thead>\n",
       "  <tbody>\n",
       "    <tr>\n",
       "      <th>0</th>\n",
       "      <td>[timed, long, enough, youngster, brief, attent...</td>\n",
       "      <td>positive</td>\n",
       "    </tr>\n",
       "    <tr>\n",
       "      <th>1</th>\n",
       "      <td>[matter, movie, cost, million, dollar, good, g...</td>\n",
       "      <td>negative</td>\n",
       "    </tr>\n",
       "    <tr>\n",
       "      <th>2</th>\n",
       "      <td>[choreography, precise, lifelike, point, one, ...</td>\n",
       "      <td>positive</td>\n",
       "    </tr>\n",
       "    <tr>\n",
       "      <th>3</th>\n",
       "      <td>[film, attempt, humor, may, find, hunting, rea...</td>\n",
       "      <td>negative</td>\n",
       "    </tr>\n",
       "    <tr>\n",
       "      <th>4</th>\n",
       "      <td>[clumsy, determination, endearing, sometimes, ...</td>\n",
       "      <td>positive</td>\n",
       "    </tr>\n",
       "  </tbody>\n",
       "</table>\n",
       "</div>"
      ],
      "text/plain": [
       "                                        criticReview sentiment\n",
       "0  [timed, long, enough, youngster, brief, attent...  positive\n",
       "1  [matter, movie, cost, million, dollar, good, g...  negative\n",
       "2  [choreography, precise, lifelike, point, one, ...  positive\n",
       "3  [film, attempt, humor, may, find, hunting, rea...  negative\n",
       "4  [clumsy, determination, endearing, sometimes, ...  positive"
      ]
     },
     "execution_count": 18,
     "metadata": {},
     "output_type": "execute_result"
    }
   ],
   "source": [
    "tomatoes_movie_review.head(5)"
   ]
  },
  {
   "cell_type": "markdown",
   "id": "f5953461",
   "metadata": {},
   "source": [
    "### Imbalanced dataset"
   ]
  },
  {
   "cell_type": "markdown",
   "id": "7b7ee4e5",
   "metadata": {},
   "source": [
    "Performing sentimental analysis on an imbalanced dataset can potentially result in biased analysis. To prevent this, it is important to conduct a check to determine the balance of the dataset before proceeding with the analysis."
   ]
  },
  {
   "cell_type": "code",
   "execution_count": 19,
   "id": "3176497a",
   "metadata": {},
   "outputs": [
    {
     "name": "stdout",
     "output_type": "stream",
     "text": [
      "Number of positive entries:  911926\n",
      "Number of negative entries:  447983\n"
     ]
    }
   ],
   "source": [
    "positive = np.sum(tomatoes_movie_review['sentiment'] == 'positive')\n",
    "negative = np.sum(tomatoes_movie_review['sentiment'] == 'negative')\n",
    "print(\"Number of positive entries: \", positive)\n",
    "print(\"Number of negative entries: \", negative)"
   ]
  },
  {
   "cell_type": "code",
   "execution_count": 20,
   "id": "e70f3952",
   "metadata": {},
   "outputs": [
    {
     "data": {
      "image/png": "[encoded data removed]",
      "text/plain": [
       "<Figure size 640x480 with 1 Axes>"
      ]
     },
     "metadata": {},
     "output_type": "display_data"
    }
   ],
   "source": [
    "labels = ['Positives', 'Negatives']\n",
    "counts = [positive, negative]\n",
    "colors = ['#80DED9', '#56CBF9']\n",
    "breakpoint = (0.05, 0)\n",
    "plt.pie(counts,explode=breakpoint,colors=colors, labels=labels, autopct='%1.1f%%')\n",
    "plt.title('Imbalanced Dataset')\n",
    "plt.show()"
   ]
  },
  {
   "cell_type": "markdown",
   "id": "63ad3ac5",
   "metadata": {},
   "source": [
    "As the pie chart shows the dataset seems to be imbalanced. There is significant difference between the number of positive entries and number of negative entries. Without handling the imbalanced dataset could lead to developing a text classifier that is more biased towards the majority class. So I will be handling this issue by undergoing undersampling. "
   ]
  },
  {
   "cell_type": "markdown",
   "id": "c2d09868",
   "metadata": {},
   "source": [
    "### Handling Imbalanced dataset by undersampling"
   ]
  },
  {
   "cell_type": "code",
   "execution_count": 21,
   "id": "f68076f9",
   "metadata": {},
   "outputs": [],
   "source": [
    "X_data = tomatoes_movie_review['criticReview']\n",
    "y_data = tomatoes_movie_review['sentiment']\n",
    "#As the X_data is 1D the function fit_resample causes error as they expect 2D,\n",
    "# so need to change it to 2D shape using reshape function. \n",
    "X_data = X_data.values.reshape(-1, 1)"
   ]
  },
  {
   "cell_type": "code",
   "execution_count": 22,
   "id": "784013d2",
   "metadata": {},
   "outputs": [],
   "source": [
    "rus = RandomUnderSampler(random_state=42)\n",
    "X_resampled, y_resampled = rus.fit_resample(X_data,y_data)"
   ]
  },
  {
   "cell_type": "code",
   "execution_count": 23,
   "id": "bb8a2557",
   "metadata": {},
   "outputs": [
    {
     "data": {
      "image/png": "[encoded data removed]",
      "text/plain": [
       "<Figure size 640x480 with 1 Axes>"
      ]
     },
     "metadata": {},
     "output_type": "display_data"
    }
   ],
   "source": [
    "positive_count = sum(y_resampled == 'positive')\n",
    "negative_count = sum(y_resampled == 'negative')\n",
    "sizes = [positive_count, negative_count]\n",
    "\n",
    "plt.pie(sizes, explode=breakpoint, labels=labels, colors=colors, autopct='%1.1f%%')\n",
    "plt.title('Balanced Dataset')\n",
    "plt.show()"
   ]
  },
  {
   "cell_type": "code",
   "execution_count": 24,
   "id": "111bc000",
   "metadata": {},
   "outputs": [
    {
     "name": "stdout",
     "output_type": "stream",
     "text": [
      "Number of positive entries:  447983\n",
      "Number of negative entries:  447983\n"
     ]
    }
   ],
   "source": [
    "print(\"Number of positive entries: \", positive_count)\n",
    "print(\"Number of negative entries: \", negative_count)"
   ]
  },
  {
   "cell_type": "code",
   "execution_count": 25,
   "id": "c80e02b6",
   "metadata": {},
   "outputs": [
    {
     "data": {
      "text/html": [
       "<div>\n",
       "<style scoped>\n",
       "    .dataframe tbody tr th:only-of-type {\n",
       "        vertical-align: middle;\n",
       "    }\n",
       "\n",
       "    .dataframe tbody tr th {\n",
       "        vertical-align: top;\n",
       "    }\n",
       "\n",
       "    .dataframe thead th {\n",
       "        text-align: right;\n",
       "    }\n",
       "</style>\n",
       "<table border=\"1\" class=\"dataframe\">\n",
       "  <thead>\n",
       "    <tr style=\"text-align: right;\">\n",
       "      <th></th>\n",
       "      <th>criticReview</th>\n",
       "      <th>sentiment</th>\n",
       "    </tr>\n",
       "  </thead>\n",
       "  <tbody>\n",
       "    <tr>\n",
       "      <th>0</th>\n",
       "      <td>[matter, movie, cost, million, dollar, good, g...</td>\n",
       "      <td>negative</td>\n",
       "    </tr>\n",
       "    <tr>\n",
       "      <th>1</th>\n",
       "      <td>[film, attempt, humor, may, find, hunting, rea...</td>\n",
       "      <td>negative</td>\n",
       "    </tr>\n",
       "    <tr>\n",
       "      <th>2</th>\n",
       "      <td>[conceivably, could, serve, primer, student, m...</td>\n",
       "      <td>negative</td>\n",
       "    </tr>\n",
       "    <tr>\n",
       "      <th>3</th>\n",
       "      <td>[fan, garbage, cinema, even, fun, dangerous, m...</td>\n",
       "      <td>negative</td>\n",
       "    </tr>\n",
       "    <tr>\n",
       "      <th>4</th>\n",
       "      <td>[dangerous, men, picture, production, note, in...</td>\n",
       "      <td>negative</td>\n",
       "    </tr>\n",
       "    <tr>\n",
       "      <th>5</th>\n",
       "      <td>[entertain, viewer, infuriate, others, clunky,...</td>\n",
       "      <td>negative</td>\n",
       "    </tr>\n",
       "    <tr>\n",
       "      <th>6</th>\n",
       "      <td>[bad, movie, one, awakens, sens, every, often,...</td>\n",
       "      <td>negative</td>\n",
       "    </tr>\n",
       "    <tr>\n",
       "      <th>7</th>\n",
       "      <td>[despite, intriguing, character, dynamic, perf...</td>\n",
       "      <td>negative</td>\n",
       "    </tr>\n",
       "    <tr>\n",
       "      <th>8</th>\n",
       "      <td>[debuting, screenwriter, jason, concocted, red...</td>\n",
       "      <td>negative</td>\n",
       "    </tr>\n",
       "    <tr>\n",
       "      <th>9</th>\n",
       "      <td>[prison, girl, lot, prison, set, exploitation,...</td>\n",
       "      <td>negative</td>\n",
       "    </tr>\n",
       "  </tbody>\n",
       "</table>\n",
       "</div>"
      ],
      "text/plain": [
       "                                        criticReview sentiment\n",
       "0  [matter, movie, cost, million, dollar, good, g...  negative\n",
       "1  [film, attempt, humor, may, find, hunting, rea...  negative\n",
       "2  [conceivably, could, serve, primer, student, m...  negative\n",
       "3  [fan, garbage, cinema, even, fun, dangerous, m...  negative\n",
       "4  [dangerous, men, picture, production, note, in...  negative\n",
       "5  [entertain, viewer, infuriate, others, clunky,...  negative\n",
       "6  [bad, movie, one, awakens, sens, every, often,...  negative\n",
       "7  [despite, intriguing, character, dynamic, perf...  negative\n",
       "8  [debuting, screenwriter, jason, concocted, red...  negative\n",
       "9  [prison, girl, lot, prison, set, exploitation,...  negative"
      ]
     },
     "execution_count": 25,
     "metadata": {},
     "output_type": "execute_result"
    }
   ],
   "source": [
    "tomatoes_movie_review = pd.DataFrame({'criticReview': X_resampled.flatten(), 'sentiment': y_resampled})\n",
    "tomatoes_movie_review.head(10)"
   ]
  },
  {
   "cell_type": "markdown",
   "id": "5a69e143",
   "metadata": {},
   "source": [
    "## TF_IDF"
   ]
  },
  {
   "cell_type": "markdown",
   "id": "4133003f",
   "metadata": {},
   "source": [
    "The text representation I will be using for the movie review is TF_IDF. TF-IDF stands for Term Frequency-Inverse Document Frequency. It quantifies the importance of a word or phrase in a document within a corpus [11]. TF_IDF can be broken down into two parts: term frequency and inverse document frequency.\n",
    "\n",
    "Term frequency calculates the number of times a particular term appears in the document [11]. Inverse document frequency measures how common or uncommon a word is across the corpus [11]. The TF-IDF value is obtained by multiplying these two values. When a term has a high TF-IDF score, it is considered more important, whereas a low TF-IDF score indicates lower importance."
   ]
  },
  {
   "cell_type": "markdown",
   "id": "cccc2cfa",
   "metadata": {},
   "source": [
    "As the dataset is large, conducting sentiment analysis on the entire dataset can be resource-intensive and time-consuming. To address this, I will limit the dataset size to 350,000 samples. The samples are randomly chosen from  tomatoes_movie_review['criticReview']. \n",
    "\n",
    "Since NLTK does not directly support TF-IDF, I will utilize the scikit-learn library for this purpose. As shown in the code, I will import the `TfidfVectorizer` from `sklearn.feature_extraction.text` to build the TF-IDF vector.\n",
    "\n",
    "One challenge is that the `fit_transform()` function in `TfidfVectorizer` only accepts filenames, files, or contents as inputs, it does not accept tokenized text [10]. To overcome this, I had to de-tokenize the tokens to convert them back into text format before passing them to `fit_transform()` for processing."
   ]
  },
  {
   "cell_type": "code",
   "execution_count": 26,
   "id": "24c90ba1",
   "metadata": {},
   "outputs": [],
   "source": [
    "# de-tokenize\n",
    "tomatoes_movie_review['criticReview'] = tomatoes_movie_review['criticReview'].apply(lambda x: \" \".join(x))\n",
    "\n",
    "size = 350000\n",
    "tomato_subset = tomatoes_movie_review[['criticReview', 'sentiment']].sample(n=size, random_state=42)\n",
    "\n",
    "# suffle so its not biase\n",
    "tomato_subset = shuffle(tomato_subset, random_state=42)\n",
    "\n",
    "tomato_review = tomato_subset['criticReview']\n",
    "tomato_sentiment= tomato_subset['sentiment']\n",
    "\n",
    "# TF-IDF vectorization\n",
    "tfidf = TfidfVectorizer()\n",
    "rotten_tomatoes_reviews = tfidf.fit_transform(tomato_review)"
   ]
  },
  {
   "cell_type": "markdown",
   "id": "ce3b6581",
   "metadata": {},
   "source": [
    "## Baseline performance "
   ]
  },
  {
   "cell_type": "markdown",
   "id": "f4036131",
   "metadata": {},
   "source": [
    "The baseline I am going to compare my performance with is Heart Disease Prediction using Logistic Regression, written by Nisha Choondassery [14]. While the topic of my project is sentimental analysis on movie reviews, I acknowledge that setting a baseline from a completely different topic may seem odd at first. However, among the various works I have viewed, Nisha Choondassery's project stood out in terms of its quality and clarity, making it an excellent reference point.\n",
    "\n",
    "In Nisha's work, she extensively described the approach of using logistic regression and provided clear code examples to illustrate her process. The goal of her project was to build a logistic regression model that utilized factors such as demographic information, behavioral factors, and medical history to predict the likelihood of an individual developing coronary heart disease (CHD) within the next 10 years. Her model achieved an accuracy of 0.88 [14].\n",
    "\n",
    "While the specific problem domain differs between Nisha's project and mine, I believe that her work serves as an excellent baseline due to its methodological rigor and strong performance. By striving to achieve a similar level of accuracy in my sentiment analysis classifier, I aim to demonstrate the effectiveness and quality of my own approach within the context of sentimental analysis on movie reviews.\""
   ]
  },
  {
   "cell_type": "markdown",
   "id": "ab151e79",
   "metadata": {},
   "source": [
    "## Text Classifier "
   ]
  },
  {
   "cell_type": "markdown",
   "id": "8e96dbb6",
   "metadata": {},
   "source": [
    "Logistic regression is an algorithm used to predict the probability of an instance belonging to a specific class [2]. In this project, we specifically employed binary logistic regression, where the instance can be categorized as either 'positive' or 'negative.'\n",
    "\n",
    "Logistic regression was chosen as this appraoch holds simplicity, versatility, and straightforwardness as a classification algorithm. In addition, logistic regression is computationally efficient, allowing us to handle large datasets effectively, which is crucial for our project.\n",
    "\n",
    "I attempted to utilize the Support Vector Machine (SVM) approach but encountered significant processing time and even experienced kernel shutdowns. These challenges led to the realization that SVM may not be the most suitable method for our project. As an alternative, Naive Bayes appeared to be a more appropriate approach, it is easy to understanding, implementation, and faster processing time. However, it is crucial to acknowledge that Naive Bayes is susceptible to the 'zero-frequency problem,' where it assigns zero probability to a categorical variable in the test dataset that was not present in the training dataset[12]. This limitation raises concerns about the accuracy and performance of sentimental analysis for movie reviews, ultimately leading to the decision to not proceed with this approaches. "
   ]
  },
  {
   "cell_type": "markdown",
   "id": "74a08374",
   "metadata": {},
   "source": [
    "To train the classifier, the first step is to separate the data into testing set and the training set. I will be using the ratio of 8:2, 80% for training and 20% for testing."
   ]
  },
  {
   "cell_type": "code",
   "execution_count": 27,
   "id": "fcacc154",
   "metadata": {},
   "outputs": [],
   "source": [
    "X_train, X_test, y_train, y_test = train_test_split(rotten_tomatoes_reviews, tomato_sentiment, test_size=0.2)"
   ]
  },
  {
   "cell_type": "code",
   "execution_count": 28,
   "id": "3a5b9a3c",
   "metadata": {},
   "outputs": [
    {
     "data": {
      "text/html": [
       "<style>#sk-container-id-1 {color: black;background-color: white;}#sk-container-id-1 pre{padding: 0;}#sk-container-id-1 div.sk-toggleable {background-color: white;}#sk-container-id-1 label.sk-toggleable__label {cursor: pointer;display: block;width: 100%;margin-bottom: 0;padding: 0.3em;box-sizing: border-box;text-align: center;}#sk-container-id-1 label.sk-toggleable__label-arrow:before {content: \"▸\";float: left;margin-right: 0.25em;color: #696969;}#sk-container-id-1 label.sk-toggleable__label-arrow:hover:before {color: black;}#sk-container-id-1 div.sk-estimator:hover label.sk-toggleable__label-arrow:before {color: black;}#sk-container-id-1 div.sk-toggleable__content {max-height: 0;max-width: 0;overflow: hidden;text-align: left;background-color: #f0f8ff;}#sk-container-id-1 div.sk-toggleable__content pre {margin: 0.2em;color: black;border-radius: 0.25em;background-color: #f0f8ff;}#sk-container-id-1 input.sk-toggleable__control:checked~div.sk-toggleable__content {max-height: 200px;max-width: 100%;overflow: auto;}#sk-container-id-1 input.sk-toggleable__control:checked~label.sk-toggleable__label-arrow:before {content: \"▾\";}#sk-container-id-1 div.sk-estimator input.sk-toggleable__control:checked~label.sk-toggleable__label {background-color: #d4ebff;}#sk-container-id-1 div.sk-label input.sk-toggleable__control:checked~label.sk-toggleable__label {background-color: #d4ebff;}#sk-container-id-1 input.sk-hidden--visually {border: 0;clip: rect(1px 1px 1px 1px);clip: rect(1px, 1px, 1px, 1px);height: 1px;margin: -1px;overflow: hidden;padding: 0;position: absolute;width: 1px;}#sk-container-id-1 div.sk-estimator {font-family: monospace;background-color: #f0f8ff;border: 1px dotted black;border-radius: 0.25em;box-sizing: border-box;margin-bottom: 0.5em;}#sk-container-id-1 div.sk-estimator:hover {background-color: #d4ebff;}#sk-container-id-1 div.sk-parallel-item::after {content: \"\";width: 100%;border-bottom: 1px solid gray;flex-grow: 1;}#sk-container-id-1 div.sk-label:hover label.sk-toggleable__label {background-color: #d4ebff;}#sk-container-id-1 div.sk-serial::before {content: \"\";position: absolute;border-left: 1px solid gray;box-sizing: border-box;top: 0;bottom: 0;left: 50%;z-index: 0;}#sk-container-id-1 div.sk-serial {display: flex;flex-direction: column;align-items: center;background-color: white;padding-right: 0.2em;padding-left: 0.2em;position: relative;}#sk-container-id-1 div.sk-item {position: relative;z-index: 1;}#sk-container-id-1 div.sk-parallel {display: flex;align-items: stretch;justify-content: center;background-color: white;position: relative;}#sk-container-id-1 div.sk-item::before, #sk-container-id-1 div.sk-parallel-item::before {content: \"\";position: absolute;border-left: 1px solid gray;box-sizing: border-box;top: 0;bottom: 0;left: 50%;z-index: -1;}#sk-container-id-1 div.sk-parallel-item {display: flex;flex-direction: column;z-index: 1;position: relative;background-color: white;}#sk-container-id-1 div.sk-parallel-item:first-child::after {align-self: flex-end;width: 50%;}#sk-container-id-1 div.sk-parallel-item:last-child::after {align-self: flex-start;width: 50%;}#sk-container-id-1 div.sk-parallel-item:only-child::after {width: 0;}#sk-container-id-1 div.sk-dashed-wrapped {border: 1px dashed gray;margin: 0 0.4em 0.5em 0.4em;box-sizing: border-box;padding-bottom: 0.4em;background-color: white;}#sk-container-id-1 div.sk-label label {font-family: monospace;font-weight: bold;display: inline-block;line-height: 1.2em;}#sk-container-id-1 div.sk-label-container {text-align: center;}#sk-container-id-1 div.sk-container {/* jupyter's `normalize.less` sets `[hidden] { display: none; }` but bootstrap.min.css set `[hidden] { display: none !important; }` so we also need the `!important` here to be able to override the default hidden behavior on the sphinx rendered scikit-learn.org. See: https://github.com/scikit-learn/scikit-learn/issues/21755 */display: inline-block !important;position: relative;}#sk-container-id-1 div.sk-text-repr-fallback {display: none;}</style><div id=\"sk-container-id-1\" class=\"sk-top-container\"><div class=\"sk-text-repr-fallback\"><pre>LogisticRegression(max_iter=350000, solver=&#x27;saga&#x27;)</pre><b>In a Jupyter environment, please rerun this cell to show the HTML representation or trust the notebook. <br />On GitHub, the HTML representation is unable to render, please try loading this page with nbviewer.org.</b></div><div class=\"sk-container\" hidden><div class=\"sk-item\"><div class=\"sk-estimator sk-toggleable\"><input class=\"sk-toggleable__control sk-hidden--visually\" id=\"sk-estimator-id-1\" type=\"checkbox\" checked><label for=\"sk-estimator-id-1\" class=\"sk-toggleable__label sk-toggleable__label-arrow\">LogisticRegression</label><div class=\"sk-toggleable__content\"><pre>LogisticRegression(max_iter=350000, solver=&#x27;saga&#x27;)</pre></div></div></div></div></div>"
      ],
      "text/plain": [
       "LogisticRegression(max_iter=350000, solver='saga')"
      ]
     },
     "execution_count": 28,
     "metadata": {},
     "output_type": "execute_result"
    }
   ],
   "source": [
    "#  using saga solver, faster for larger dataset\n",
    "log_reg = LogisticRegression(solver='saga',max_iter=350000)\n",
    "log_reg.fit(X_train,y_train)"
   ]
  },
  {
   "cell_type": "code",
   "execution_count": 29,
   "id": "468b46e1",
   "metadata": {},
   "outputs": [
    {
     "name": "stdout",
     "output_type": "stream",
     "text": [
      "Accuracy  = 78.78428571428572\n",
      "Precision = 78.78546317701363\n",
      "Recall    = 78.78428571428572\n",
      "F1-Score  = 78.7844152305549\n"
     ]
    }
   ],
   "source": [
    "predicted_sentiment = log_reg.predict(X_test)\n",
    "\n",
    "accuracy = accuracy_score(y_test, predicted_sentiment)\n",
    "precision = precision_score(y_test, predicted_sentiment, average='weighted')\n",
    "recall = recall_score(y_test, predicted_sentiment,average='weighted')\n",
    "f1 = f1_score(y_test, predicted_sentiment,average='weighted')\n",
    "\n",
    "print(\"Accuracy  =\", accuracy*100)\n",
    "print(\"Precision =\", precision*100)\n",
    "print(\"Recall    =\", recall*100)\n",
    "print(\"F1-Score  =\", f1*100)"
   ]
  },
  {
   "cell_type": "markdown",
   "id": "0c674b54",
   "metadata": {},
   "source": [
    "To measure the performance of the classifier, ROC curve can be ploted. It shows the performance of the classification model at various classification threshold levels[4].The ROC Curve is plotted by True Positive Rate against the False Positive Rate (FPR) at various threshold levels.\n",
    "\n",
    "By plotting the ROC curve, we can visually assess the trade-off between the true positive rate and the false positive rate. A better classifier will have a curve that is closer to the left top corner of the plot, indicating higher sensitivity and lower false positive rate."
   ]
  },
  {
   "cell_type": "code",
   "execution_count": 30,
   "id": "2cc5573d",
   "metadata": {},
   "outputs": [
    {
     "data": {
      "image/png": "[encoded data removed]",
      "text/plain": [
       "<Figure size 600x400 with 1 Axes>"
      ]
     },
     "metadata": {},
     "output_type": "display_data"
    }
   ],
   "source": [
    "y_pred_prob = log_reg.predict_proba(X_test)[:, 1]\n",
    "\n",
    "false_pos, true_pos ,threshold= roc_curve(y_test, y_pred_prob, pos_label='positive')\n",
    "\n",
    "auc = roc_auc_score(y_test, y_pred_prob)\n",
    "plt.figure(figsize=(6, 4))\n",
    "plt.plot(false_pos, true_pos, linewidth=2,color='#EE4B6A')\n",
    "plt.plot([0, 1], [0, 1], 'k--')\n",
    "plt.title('ROC curve for movie review sentimental classifier')\n",
    "plt.xlabel('False Positive Rate (1 - Specificity)')\n",
    "plt.ylabel('True Positive Rate (Sensitivity)')\n",
    "plt.xlim([0, 1])\n",
    "plt.ylim([0, 1])\n",
    "plt.grid(True)\n",
    "plt.show()"
   ]
  },
  {
   "cell_type": "markdown",
   "id": "88179be8",
   "metadata": {},
   "source": [
    "The AUC is a metric that represents the overall performance of the classifier. It ranges from 0 to 1, with a higher value indicating better discrimination ability and overall performance [4]."
   ]
  },
  {
   "cell_type": "code",
   "execution_count": 31,
   "id": "9dc4e59f",
   "metadata": {},
   "outputs": [
    {
     "name": "stdout",
     "output_type": "stream",
     "text": [
      "ROC AUC =  87.08909942012778\n"
     ]
    }
   ],
   "source": [
    "ROC_AUC = roc_auc_score(y_test, y_pred_prob)\n",
    "\n",
    "print('ROC AUC = ',ROC_AUC*100)"
   ]
  },
  {
   "cell_type": "code",
   "execution_count": 32,
   "id": "d6f3b5a9",
   "metadata": {},
   "outputs": [
    {
     "name": "stdout",
     "output_type": "stream",
     "text": [
      "Confusion matrix\n",
      "\n",
      " [[27663  7510]\n",
      " [ 7341 27486]]\n",
      "\n",
      "True Positives(TP) =  27663\n",
      "True Negatives(TN)   =  27486\n",
      "False Positives(FP)  =  7510\n",
      "False Negatives(FN)  =  7341\n"
     ]
    },
    {
     "data": {
      "text/plain": [
       "<Axes: >"
      ]
     },
     "execution_count": 32,
     "metadata": {},
     "output_type": "execute_result"
    },
    {
     "data": {
      "image/png": "[encoded data removed]",
      "text/plain": [
       "<Figure size 640x480 with 2 Axes>"
      ]
     },
     "metadata": {},
     "output_type": "display_data"
    }
   ],
   "source": [
    "confusion_matrix = metrics.confusion_matrix(y_test, predicted_sentiment)\n",
    "\n",
    "print('Confusion matrix\\n\\n', confusion_matrix)\n",
    "\n",
    "print('\\nTrue Positives(TP) = ', confusion_matrix[0,0])\n",
    "print('True Negatives(TN)   = ', confusion_matrix[1,1])\n",
    "print('False Positives(FP)  = ', confusion_matrix[0,1])\n",
    "print('False Negatives(FN)  = ', confusion_matrix[1,0])\n",
    "\n",
    "cm_matrix = pd.DataFrame(data=confusion_matrix, columns=['Positive', 'Negative'], \n",
    "                                 index=['Positive', 'Negative'])\n",
    "\n",
    "sns.heatmap(cm_matrix, annot=True, fmt='d', cmap='YlGnBu')"
   ]
  },
  {
   "cell_type": "markdown",
   "id": "21457cb2",
   "metadata": {},
   "source": [
    "## Evaluation\n",
    "\n",
    "To evaluate the performance of the built classifier, accuracy, precision, f1, recall, ROC AUC were measured. The results are: \n",
    "\n",
    "    Accuracy  = 79.0442857142857\n",
    "    Precision = 79.04705841034293\n",
    "    Recall    = 79.0442857142857\n",
    "    F1-Score  = 79.04409161649515\n",
    "    ROC AUC   = 87.41824018212467\n",
    "\n",
    "These metrics provide a quantitative assessment of the classifier's performance in sentiment classification. The accuracy score indicates that approximately 79.04% of the instances were correctly classified. Precision measures the proportion of correctly predicted positive instances out of all instances predicted as positive, yielding a value of  79.04%. Similarly, recall reflects the proportion of correctly predicted positive instances out of all actual positive instances, also resulting in a value of 79.04%. The F1-score, which combines precision and recall, provides an overall measure of classification performance, resulting in a value of 79.04%. These metrics collectively demonstrate the classifier's effectiveness in accurately classifying the sentiment of movie reviews.\n",
    "\n",
    "In addition to these metrics, the Receiver Operating Characteristic curve provides further insight into the classifier's performance. With an Area Under the Curve value of 87.41%, the classifier demonstrates a strong ability to distinguish between positive and negative sentiments. This high AUC value signifies the classifier's robust discriminatory power and confirms its efficacy in predicting sentiment."
   ]
  },
  {
   "cell_type": "markdown",
   "id": "6bccfdde",
   "metadata": {},
   "source": [
    "## Conclusion "
   ]
  },
  {
   "cell_type": "markdown",
   "id": "a6b1941c",
   "metadata": {},
   "source": [
    "With the rotten tomato movie review data, I have successfully executed a series of processes including pre-processing, undersampling, TF-IDF transformation, and training a classifier. As a result, a text classifier has been developed that demonstrates an accuracy of 79.04% in predicting the sentiment of movie reviews. The precision, recall, and F1-score also exhibit a consistent performance of around 79%. These metrics collectively indicate that the classifier can be considered reliable and accurate in performing sentiment analysis on movie reviews.\n",
    "\n",
    "Furthermore, the ROC AUC value achieved by the classifier is 87.41%, which signifies its strong discriminatory power and ability to differentiate between positive and negative sentiments. Although the my classifier performance did not meet the baseline accuracy of 88%, I believe that in terms of overall performance, the classifier remains reliable and robust.\n",
    "\n",
    "In conclusion, the objective of analyzing movie reviews written by critics and gaining insights into the expressed sentiment has been accomplished. Additionally, the second objective of constructing an accurate and robust classifier for sentiment analysis has also been successfully achieved."
   ]
  },
  {
   "cell_type": "markdown",
   "id": "b68b45ae",
   "metadata": {},
   "source": [
    "## REFERENCES: "
   ]
  },
  {
   "cell_type": "markdown",
   "id": "c84db519",
   "metadata": {},
   "source": [
    "[1]What is Sentiment Analysis? - Sentiment Analysis Explained - AWS. (n.d.-b). Amazon Web Services, Inc. https://aws.amazon.com/what-is/sentiment-analysis/\n",
    "\n",
    "[2]GeeksforGeeks. (2023b). Logistic Regression in Machine Learning. GeeksforGeeks. https://www.geeksforgeeks.org/understanding-logistic-regression/\n",
    "\n",
    "[3] Jones, A. B. (2018, June 20). Sentiment analysis of reviews: Text Pre-processing - Anna Bianca Jones - Medium. Medium. https://medium.com/@annabiancajones/sentiment-analysis-of-reviews-text-pre-processing-6359343784fb\n",
    "\n",
    "[4] Prashant. (2020). Logistic Regression Classifier Tutorial. Kaggle. https://www.kaggle.com/code/prashant111/logistic-regression-classifier-tutorial\n",
    "\n",
    "[5]GeeksforGeeks. (2023b). Evaluation Metrics in Machine Learning. GeeksforGeeks. https://www.geeksforgeeks.org/metrics-for-machine-learning-model/\n",
    "\n",
    "[6] Precision-Recall. (n.d.). Scikit-learn. https://scikit-learn.org/stable/auto_examples/model_selection/plot_precision_recall.html#:~:text=Precision%20(%20)%20is%20defined%20as%20the,number%20of%20false%20positives%20(%20).&text=Recall%20(%20)%20is%20defined%20as%20the,number%20of%20false%20negatives%20(%20).\n",
    "\n",
    "[7] Dickinson, L. (2023, February 18). Step by Step Basics: Text Classifier - Towards Data Science. Medium. https://towardsdatascience.com/step-by-step-basics-text-classifier-e666c6bac52b\n",
    "\n",
    "[8] Ellis, M. (2022). What Are Contractions in Writing? Definition and Examples | Grammarly. What Are Contractions in Writing? Definition and Examples | Grammarly. https://www.grammarly.com/blog/contractions/\n",
    "\n",
    "[9] Balodi, T. (n.d.). What is Stemming and Lemmatization in NLP? | Analytics Steps. https://www.analyticssteps.com/blogs/what-stemming-and-lemmatization-nlp\n",
    "\n",
    "[10] sklearn.feature_extraction.text.TfidfVectorizer. (n.d.). Scikit-learn. https://scikit-learn.org/stable/modules/generated/sklearn.feature_extraction.text.TfidfVectorizer.html\n",
    "\n",
    "[11] Simha, A. (2021). Understanding TF-IDF for Machine Learning. Capital One. https://www.capitalone.com/tech/machine-learning/understanding-tf-idf/\n",
    "\n",
    "[12] Shah, R. (2021). Naïve Bayes Algorithm’s Advantages and Disadvantages | Kaggle. https://www.kaggle.com/discussions/getting-started/225022\n",
    "\n",
    "[13]Villa, A. (2023) 🎬 Massive Rotten Tomatoes Movies & Reviews. Available at: https://www.kaggle.com/datasets/andrezaza/clapper-massive-rotten-tomatoes-movies-and-reviews?datasetId=3125944&sortBy=dateRun&tab=profile.\n",
    "\n",
    "[14]Neisha (2018b) “Heart Disease Prediction using Logistic Regression,” Kaggle [Preprint]. Available at: https://www.kaggle.com/code/neisha/heart-disease-prediction-using-logistic-regression."
   ]
  }
 ],
 "metadata": {
  "kernelspec": {
   "display_name": "Python 3 (ipykernel)",
   "language": "python",
   "name": "python3"
  },
  "language_info": {
   "codemirror_mode": {
    "name": "ipython",
    "version": 3
   },
   "file_extension": ".py",
   "mimetype": "text/x-python",
   "name": "python",
   "nbconvert_exporter": "python",
   "pygments_lexer": "ipython3",
   "version": "3.10.9"
  }
 },
 "nbformat": 4,
 "nbformat_minor": 5
}
